{
  "nbformat": 4,
  "nbformat_minor": 0,
  "metadata": {
    "colab": {
      "provenance": [],
      "gpuType": "T4",
      "mount_file_id": "1ZXsEb0i2KmvUa8QpBL1qtHgkmlzPMpeV",
      "authorship_tag": "ABX9TyPrDKiui4Sr8Zo5U429+yje",
      "include_colab_link": true
    },
    "kernelspec": {
      "name": "python3",
      "display_name": "Python 3"
    },
    "language_info": {
      "name": "python"
    },
    "accelerator": "GPU"
  },
  "cells": [
    {
      "cell_type": "markdown",
      "metadata": {
        "id": "view-in-github",
        "colab_type": "text"
      },
      "source": [
        "<a href=\"https://colab.research.google.com/github/Ryan-alb/MachineLearning/blob/main/notebooks/reconhecimentoFacial.ipynb\" target=\"_parent\"><img src=\"https://colab.research.google.com/assets/colab-badge.svg\" alt=\"Open In Colab\"/></a>"
      ]
    },
    {
      "cell_type": "code",
      "execution_count": null,
      "metadata": {
        "id": "i1jy7XUZIud4"
      },
      "outputs": [],
      "source": [
        "# Clone o YOLOv5\n",
        "!git clone https://github.com/ultralytics/yolov5.git\n",
        "!cd yolov5\n",
        "\n",
        "\n"
      ]
    },
    {
      "cell_type": "code",
      "source": [
        "!pip install -r /content/drive/MyDrive/Yolo/BBT/requirements.txt"
      ],
      "metadata": {
        "id": "3DGWuAR08P4O"
      },
      "execution_count": null,
      "outputs": []
    },
    {
      "cell_type": "code",
      "source": [
        "!python train.py --img 640 --batch 16 --epochs 50 --data /content/drive/MyDrive/Yolo/BBT/data.yaml --weights yolov5s.pt --cache\n"
      ],
      "metadata": {
        "id": "4d4jpy7jbDDM",
        "colab": {
          "base_uri": "https://localhost:8080/"
        },
        "outputId": "6501af8f-2367-45f5-d743-c3c727c81ccc"
      },
      "execution_count": 4,
      "outputs": [
        {
          "output_type": "stream",
          "name": "stdout",
          "text": [
            "python3: can't open file '/content/train.py': [Errno 2] No such file or directory\n"
          ]
        }
      ]
    },
    {
      "cell_type": "code",
      "source": [
        "import torch\n",
        "from PIL import Image\n",
        "import matplotlib.pyplot as plt\n",
        "\n",
        "# Carregar o modelo treinado\n",
        "model = torch.hub.load('ultralytics/yolov5', 'custom', path='runs/train/exp/weights/best.pt')\n",
        "\n",
        "# Caminho da imagem de teste\n",
        "img_path = 'test.jpg'\n",
        "\n",
        "# Inferência\n",
        "results = model(img_path)\n",
        "\n",
        "# Mostrar a imagem com as detecções\n",
        "results.print()\n",
        "results.show()  # Abre a imagem com as boxes\n",
        "results.save()  # Salva a imagem com as boxes desenhadas\n"
      ],
      "metadata": {
        "id": "dxR9MqGv835s"
      },
      "execution_count": null,
      "outputs": []
    },
    {
      "cell_type": "code",
      "source": [
        "import torch\n",
        "import cv2\n",
        "\n",
        "model = torch.hub.load('ultralytics/yolov5', 'custom', path='runs/train/exp/weights/best.pt')\n",
        "\n",
        "cap = cv2.VideoCapture(0)\n",
        "\n",
        "while True:\n",
        "    ret, frame = cap.read()\n",
        "    if not ret:\n",
        "        break\n",
        "\n",
        "    # Inference\n",
        "    results = model(frame)\n",
        "\n",
        "    # Render results\n",
        "    results.render()\n",
        "\n",
        "    # Mostrar imagem\n",
        "    cv2.imshow('Big Bang Character Detection', frame)\n",
        "\n",
        "    if cv2.waitKey(1) & 0xFF == ord('q'):\n",
        "        break\n",
        "\n",
        "cap.release()\n",
        "cv2.destroyAllWindows()\n"
      ],
      "metadata": {
        "id": "Bbo-5jVJ8_WB"
      },
      "execution_count": null,
      "outputs": []
    },
    {
      "cell_type": "code",
      "source": [],
      "metadata": {
        "id": "jKA3SzXb9LRd"
      },
      "execution_count": null,
      "outputs": []
    }
  ]
}