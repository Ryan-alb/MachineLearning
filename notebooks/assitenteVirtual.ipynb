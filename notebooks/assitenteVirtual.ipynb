{
  "nbformat": 4,
  "nbformat_minor": 0,
  "metadata": {
    "colab": {
      "provenance": [],
      "authorship_tag": "ABX9TyNXxu485yDzFNjOuv52dJC3",
      "include_colab_link": true
    },
    "kernelspec": {
      "name": "python3",
      "display_name": "Python 3"
    },
    "language_info": {
      "name": "python"
    }
  },
  "cells": [
    {
      "cell_type": "markdown",
      "metadata": {
        "id": "view-in-github",
        "colab_type": "text"
      },
      "source": [
        "<a href=\"https://colab.research.google.com/github/Ryan-alb/MachineLearning/blob/main/notebooks/assitenteVirtual.ipynb\" target=\"_parent\"><img src=\"https://colab.research.google.com/assets/colab-badge.svg\" alt=\"Open In Colab\"/></a>"
      ]
    },
    {
      "cell_type": "markdown",
      "source": [
        " **O CÓDIGO A SEGUIR NÃO FUNCIONA SE EXECUTADO NO COLAB, POR ISSO RODE LOCALMENTE**"
      ],
      "metadata": {
        "id": "L148LISdgJVj"
      }
    },
    {
      "cell_type": "code",
      "source": [
        "!pip install SpeechRecognition pyttsx3 wikipedia pywhatkit sounddevice requests"
      ],
      "metadata": {
        "colab": {
          "base_uri": "https://localhost:8080/"
        },
        "id": "2H3XLUbXUZrY",
        "outputId": "aaa9b6f5-4737-4a69-e173-14e0fb89cd30"
      },
      "execution_count": null,
      "outputs": [
        {
          "output_type": "stream",
          "name": "stdout",
          "text": [
            "Requirement already satisfied: SpeechRecognition in /usr/local/lib/python3.11/dist-packages (3.14.3)\n",
            "Requirement already satisfied: pyttsx3 in /usr/local/lib/python3.11/dist-packages (2.98)\n",
            "Requirement already satisfied: wikipedia in /usr/local/lib/python3.11/dist-packages (1.4.0)\n",
            "Requirement already satisfied: pywhatkit in /usr/local/lib/python3.11/dist-packages (5.4)\n",
            "Requirement already satisfied: sounddevice in /usr/local/lib/python3.11/dist-packages (0.5.2)\n",
            "Requirement already satisfied: requests in /usr/local/lib/python3.11/dist-packages (2.32.3)\n",
            "Requirement already satisfied: typing-extensions in /usr/local/lib/python3.11/dist-packages (from SpeechRecognition) (4.14.0)\n",
            "Requirement already satisfied: beautifulsoup4 in /usr/local/lib/python3.11/dist-packages (from wikipedia) (4.13.4)\n",
            "Requirement already satisfied: Pillow in /usr/local/lib/python3.11/dist-packages (from pywhatkit) (11.2.1)\n",
            "Requirement already satisfied: pyautogui in /usr/local/lib/python3.11/dist-packages (from pywhatkit) (0.9.54)\n",
            "Requirement already satisfied: Flask in /usr/local/lib/python3.11/dist-packages (from pywhatkit) (3.1.1)\n",
            "Requirement already satisfied: CFFI>=1.0 in /usr/local/lib/python3.11/dist-packages (from sounddevice) (1.17.1)\n",
            "Requirement already satisfied: charset-normalizer<4,>=2 in /usr/local/lib/python3.11/dist-packages (from requests) (3.4.2)\n",
            "Requirement already satisfied: idna<4,>=2.5 in /usr/local/lib/python3.11/dist-packages (from requests) (3.10)\n",
            "Requirement already satisfied: urllib3<3,>=1.21.1 in /usr/local/lib/python3.11/dist-packages (from requests) (2.4.0)\n",
            "Requirement already satisfied: certifi>=2017.4.17 in /usr/local/lib/python3.11/dist-packages (from requests) (2025.4.26)\n",
            "Requirement already satisfied: pycparser in /usr/local/lib/python3.11/dist-packages (from CFFI>=1.0->sounddevice) (2.22)\n",
            "Requirement already satisfied: soupsieve>1.2 in /usr/local/lib/python3.11/dist-packages (from beautifulsoup4->wikipedia) (2.7)\n",
            "Requirement already satisfied: blinker>=1.9.0 in /usr/local/lib/python3.11/dist-packages (from Flask->pywhatkit) (1.9.0)\n",
            "Requirement already satisfied: click>=8.1.3 in /usr/local/lib/python3.11/dist-packages (from Flask->pywhatkit) (8.2.1)\n",
            "Requirement already satisfied: itsdangerous>=2.2.0 in /usr/local/lib/python3.11/dist-packages (from Flask->pywhatkit) (2.2.0)\n",
            "Requirement already satisfied: jinja2>=3.1.2 in /usr/local/lib/python3.11/dist-packages (from Flask->pywhatkit) (3.1.6)\n",
            "Requirement already satisfied: markupsafe>=2.1.1 in /usr/local/lib/python3.11/dist-packages (from Flask->pywhatkit) (3.0.2)\n",
            "Requirement already satisfied: werkzeug>=3.1.0 in /usr/local/lib/python3.11/dist-packages (from Flask->pywhatkit) (3.1.3)\n",
            "Requirement already satisfied: python3-Xlib in /usr/local/lib/python3.11/dist-packages (from pyautogui->pywhatkit) (0.15)\n",
            "Requirement already satisfied: pymsgbox in /usr/local/lib/python3.11/dist-packages (from pyautogui->pywhatkit) (1.0.9)\n",
            "Requirement already satisfied: pytweening>=1.0.4 in /usr/local/lib/python3.11/dist-packages (from pyautogui->pywhatkit) (1.2.0)\n",
            "Requirement already satisfied: pyscreeze>=0.1.21 in /usr/local/lib/python3.11/dist-packages (from pyautogui->pywhatkit) (1.0.1)\n",
            "Requirement already satisfied: pygetwindow>=0.0.5 in /usr/local/lib/python3.11/dist-packages (from pyautogui->pywhatkit) (0.0.9)\n",
            "Requirement already satisfied: mouseinfo in /usr/local/lib/python3.11/dist-packages (from pyautogui->pywhatkit) (0.1.3)\n",
            "Requirement already satisfied: pyrect in /usr/local/lib/python3.11/dist-packages (from pygetwindow>=0.0.5->pyautogui->pywhatkit) (0.2.0)\n",
            "Requirement already satisfied: pyperclip in /usr/local/lib/python3.11/dist-packages (from mouseinfo->pyautogui->pywhatkit) (1.9.0)\n"
          ]
        }
      ]
    },
    {
      "cell_type": "code",
      "execution_count": null,
      "metadata": {
        "id": "-4ROU7AwT4_7"
      },
      "outputs": [],
      "source": [
        "import sounddevice as sd\n",
        "from scipy.io.wavfile import write\n",
        "import speech_recognition as sr\n",
        "import pyttsx3\n",
        "import webbrowser\n",
        "import wikipedia\n",
        "import requests\n",
        "import os\n",
        "\n",
        "# Configurar o TTS\n",
        "engine = pyttsx3.init()\n",
        "engine.setProperty('rate', 150)\n",
        "\n",
        "def speak(text):\n",
        "    print(f\"Assistente: {text}\")\n",
        "    engine.say(text)\n",
        "    engine.runAndWait()\n",
        "\n",
        "def gravar_audio(filename=\"output.wav\", duration=5, fs=44100):\n",
        "    speak(\"Estou ouvindo, pode falar agora.\")\n",
        "    print(\"Gravando...\")\n",
        "    audio = sd.rec(int(duration * fs), samplerate=fs, channels=1, dtype='int16')\n",
        "    sd.wait()\n",
        "    write(filename, fs, audio)\n",
        "    print(\"Gravação finalizada.\")\n",
        "\n",
        "def reconhecer_audio(filename=\"output.wav\"):\n",
        "    recognizer = sr.Recognizer()\n",
        "    with sr.AudioFile(filename) as source:\n",
        "        audio_data = recognizer.record(source)\n",
        "    try:\n",
        "        texto = recognizer.recognize_google(audio_data, language='pt-BR')\n",
        "        print(f\"Você disse: {texto}\")\n",
        "        return texto.lower()\n",
        "    except sr.UnknownValueError:\n",
        "        speak(\"Não consegui entender.\")\n",
        "        return \"\"\n",
        "    except sr.RequestError:\n",
        "        speak(\"Problema ao acessar o serviço de reconhecimento.\")\n",
        "        return \"\"\n",
        "\n",
        "def get_weather(city=\"São Paulo\"):\n",
        "    api_key = \"SUA_API_KEY_AQUI\"  # Pegue em openweathermap.org\n",
        "    url = f\"http://api.openweathermap.org/data/2.5/weather?q={city}&appid={api_key}&lang=pt&units=metric\"\n",
        "    response = requests.get(url)\n",
        "    if response.status_code == 200:\n",
        "        data = response.json()\n",
        "        temp = data[\"main\"][\"temp\"]\n",
        "        description = data[\"weather\"][0][\"description\"]\n",
        "        return f\"Agora em {city}, está {description} com temperatura de {temp} graus.\"\n",
        "    else:\n",
        "        return \"Não consegui obter a previsão do tempo.\"\n",
        "\n",
        "def assistant():\n",
        "    speak(\"Olá! Estou pronta para te ajudar.\")\n",
        "    while True:\n",
        "        gravar_audio()\n",
        "        command = reconhecer_audio()\n",
        "\n",
        "        if \"wikipedia\" in command:\n",
        "            topic = command.replace(\"wikipedia\", \"\").strip()\n",
        "            try:\n",
        "                result = wikipedia.summary(topic, sentences=2, lang='pt')\n",
        "                speak(result)\n",
        "            except:\n",
        "                speak(\"Não encontrei nada sobre isso na Wikipedia.\")\n",
        "\n",
        "        elif \"youtube\" in command:\n",
        "            speak(\"Abrindo o YouTube.\")\n",
        "            webbrowser.open(\"https://www.youtube.com\")\n",
        "\n",
        "        elif \"farmácia\" in command:\n",
        "            speak(\"Procurando a farmácia mais próxima.\")\n",
        "            webbrowser.open(\"https://www.google.com/maps/search/farmácia+mais+próxima/\")\n",
        "\n",
        "        elif \"amazon\" in command:\n",
        "            produtos = [\"mochila\", \"relógio\", \"celular\", \"cadeira\"]\n",
        "            for produto in produtos:\n",
        "                if produto in command:\n",
        "                    speak(f\"Procurando {produto} na Amazon.\")\n",
        "                    webbrowser.open(f\"https://www.amazon.com.br/s?k={produto}\")\n",
        "                    break\n",
        "            else:\n",
        "                speak(\"Desculpe, só posso pesquisar mochila, relógio, celular ou cadeira.\")\n",
        "\n",
        "        elif \"clima\" in command:\n",
        "            clima = get_weather()\n",
        "            speak(clima)\n",
        "\n",
        "        elif \"sair\" in command or \"encerrar\" in command:\n",
        "            speak(\"Encerrando, até logo!\")\n",
        "            break\n",
        "\n",
        "        else:\n",
        "            speak(\"Comando não reconhecido.\")\n",
        "\n",
        "        # Limpar o arquivo de áudio temporário\n",
        "        if os.path.exists(\"output.wav\"):\n",
        "            os.remove(\"output.wav\")\n",
        "\n",
        "# Rodar a assistente\n",
        "assistant()\n"
      ]
    }
  ]
}